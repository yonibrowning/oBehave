{
 "cells": [
  {
   "cell_type": "code",
   "execution_count": 9,
   "metadata": {},
   "outputs": [
    {
     "name": "stdout",
     "output_type": "stream",
     "text": [
      "The autoreload extension is already loaded. To reload it, use:\n",
      "  %reload_ext autoreload\n"
     ]
    }
   ],
   "source": [
    "%load_ext autoreload\n",
    "%autoreload 2\n",
    "import matplotlib as mpl\n",
    "%matplotlib inline\n",
    "import scipy as sp\n",
    "import numpy as np\n",
    "import pandas as pd\n",
    "# sometimes order maters on these\n",
    "import matplotlib.pyplot as plt\n",
    "from mpl_toolkits.mplot3d import Axes3D\n",
    "import oBehave.plotting_stuff as obps\n",
    "import oBehave.helperfunctions as obhf\n",
    "import oBehave.neural_analysis as obna\n",
    "import oBehave.behavior_anaylsis as obba\n",
    "import sklearn.decomposition as decomp\n",
    "\n",
    "\n",
    "from visual_behavior.ophys.dataset.visual_behavior_ophys_dataset import VisualBehaviorOphysDataset\n",
    "from visual_behavior.ophys.response_analysis.utilities import get_trace_around_timepoint,get_nearest_frame\n",
    "from visual_behavior.ophys.response_analysis.response_analysis import ResponseAnalysis\n",
    "\n",
    "experiment_id = 639438856\n"
   ]
  },
  {
   "cell_type": "code",
   "execution_count": null,
   "metadata": {},
   "outputs": [],
   "source": [
    "# Load all the data we will want for this\n",
    "manifest = obhf.load_manifest()\n",
    "obba.includeNovelSession(manifest)\n",
    "dataset= VisualBehaviorOphysDataset(experiment_id=experiment_id, cache_dir=obhf.drive_path)\n",
    "#analysis = ResponseAnalysis(dataset)"
   ]
  },
  {
   "cell_type": "code",
   "execution_count": null,
   "metadata": {},
   "outputs": [],
   "source": [
    "manifest.first_session"
   ]
  },
  {
   "cell_type": "code",
   "execution_count": null,
   "metadata": {},
   "outputs": [
    {
     "name": "stdout",
     "output_type": "stream",
     "text": [
      "644942849\n",
      "loading trial response dataframe\n",
      "loading flash response dataframe\n",
      "645035903\n",
      "loading trial response dataframe\n",
      "loading flash response dataframe\n",
      "645086795\n",
      "loading trial response dataframe\n",
      "loading flash response dataframe\n",
      "645362806\n",
      "loading trial response dataframe\n",
      "loading flash response dataframe\n",
      "646922970\n",
      "loading trial response dataframe\n",
      "loading flash response dataframe\n",
      "647108734\n",
      "loading trial response dataframe\n",
      "loading flash response dataframe\n",
      "647551128\n",
      "loading trial response dataframe\n",
      "loading flash response dataframe\n",
      "647887770\n",
      "loading trial response dataframe\n",
      "loading flash response dataframe\n",
      "652844352\n",
      "loading trial response dataframe\n",
      "loading flash response dataframe\n",
      "653053906\n",
      "loading trial response dataframe\n",
      "loading flash response dataframe\n",
      "653123781\n",
      "loading trial response dataframe\n",
      "loading flash response dataframe\n",
      "639253368\n",
      "loading trial response dataframe\n",
      "loading flash response dataframe\n",
      "639438856\n",
      "loading trial response dataframe\n",
      "loading flash response dataframe\n",
      "639769395\n",
      "loading trial response dataframe\n",
      "loading flash response dataframe\n",
      "639932228\n",
      "loading trial response dataframe\n",
      "loading flash response dataframe\n",
      "661423848\n",
      "loading trial response dataframe\n",
      "loading flash response dataframe\n",
      "663771245\n",
      "loading trial response dataframe\n",
      "loading flash response dataframe\n",
      "663773621\n",
      "loading trial response dataframe\n",
      "loading flash response dataframe\n",
      "665286182\n",
      "loading trial response dataframe\n",
      "loading flash response dataframe\n",
      "670396087\n",
      "loading trial response dataframe\n",
      "loading flash response dataframe\n",
      "671152642\n",
      "loading trial response dataframe\n",
      "loading flash response dataframe\n",
      "672185644\n",
      "loading trial response dataframe\n",
      "loading flash response dataframe\n",
      "672584839\n",
      "loading trial response dataframe\n",
      "loading flash response dataframe\n",
      "685744008\n",
      "loading trial response dataframe\n",
      "loading flash response dataframe\n",
      "686726085\n",
      "loading trial response dataframe\n",
      "loading flash response dataframe\n"
     ]
    }
   ],
   "source": [
    "def compute_lifetime_sparseness(image_responses):\n",
    "    # image responses should be an array of the trial averaged responses to each image\n",
    "    # sparseness = 1-(sum of trial averaged responses to images / N)squared / (sum of (squared mean responses / n)) / (1-(1/N))\n",
    "    # N = number of images\n",
    "    # Modified shamelessly from allen institute code\n",
    "    N = float(len(image_responses))\n",
    "    ls = ((1-(1/N) * ((np.power(np.abs(image_responses).sum(axis=0),2)) / (np.power(image_responses,2).sum(axis=0)))) / (1-(1/N)))\n",
    "    return ls\n",
    "\n",
    "\n",
    "keylist = ['experiment_id','cell_indices','cell_specimen_ids','session_type','cre_line',\n",
    "           'SparAve','Spar1','Spar2','Spar3','Spar4','Spar5','Shit','Smiss']\n",
    "cr = {k:[] for k in keylist}\n",
    "for ex,row in manifest.iterrows():\n",
    "    if not row['first_session']:\n",
    "        continue\n",
    "    print(row['experiment_id'])\n",
    "    dataset= VisualBehaviorOphysDataset(experiment_id=row['experiment_id'], cache_dir=obhf.drive_path)\n",
    "    analysis = ResponseAnalysis(dataset)\n",
    "    FR = obba.includeAddRepeats(analysis.flash_response_df,dataset.all_trials)\n",
    "    unique_cells = np.unique(FR['cell'])\n",
    "    unique_images = np.unique(FR['image_name'])\n",
    "    for ii in unique_cells:\n",
    "        cr['experiment_id'].append(row['experiment_id'])\n",
    "        cr['cell_indices'].append(dataset.cell_indices[ii])\n",
    "        cr['cell_specimen_ids'].append(dataset.cell_specimen_ids[ii])\n",
    "        cr['cre_line'].append(row['cre_line'])\n",
    "        cr['session_type'].append(row['session_type'])\n",
    "        im_means = [FR[(FR['image_name']==image)&( FR['cell']==ii)].mean_response.mean() for image in np.unique(FR['image_name'])]\n",
    "        cr['SparAve'].append(compute_lifetime_sparseness(im_means))\n",
    "        for rr in [1,2,3,4,5]:\n",
    "            im_means = [FR[(FR['image_name']==image)&(FR['cell']==ii)&(FR['repeats']==rr)].mean_response.mean() for image in np.unique(FR['image_name'])]\n",
    "            cr['Spar'+str(rr)].append(compute_lifetime_sparseness(im_means))\n",
    "        im_means = [FR[(FR['image_name']==image)&( FR['cell']==ii)&(FR['repeats']==1)&(FR['response_type']=='HIT')].mean_response.mean() for image in np.unique(FR['image_name'])]\n",
    "        cr['Shit'].append(compute_lifetime_sparseness(im_means))\n",
    "        im_means = [FR[(FR['image_name']==image)&( FR['cell']==ii)&(FR['repeats']==1)&(FR['response_type']=='MISS')].mean_response.mean() for image in np.unique(FR['image_name'])]\n",
    "        cr['Smiss'].append(compute_lifetime_sparseness(im_means))    \n",
    "CellResp = pd.DataFrame(cr)"
   ]
  },
  {
   "cell_type": "code",
   "execution_count": null,
   "metadata": {},
   "outputs": [],
   "source": [
    "\n",
    "CellResp.to_pickle('./popMeanResponseSelectivity.pkl')\n",
    "#CellResp.to_hdf('./popMeanResponseSelectivity.hdf5')"
   ]
  },
  {
   "cell_type": "code",
   "execution_count": 139,
   "metadata": {},
   "outputs": [
    {
     "data": {
      "text/plain": [
       "(array([ 0.07272727,  0.23356643,  0.41538462,  0.61258741,  0.74825175,\n",
       "         0.82237762,  0.87972028,  0.92027972,  0.96923077,  1.        ]),\n",
       " array([ 0.02169813,  0.1167459 ,  0.21179367,  0.30684144,  0.40188921,\n",
       "         0.49693698,  0.59198476,  0.68703253,  0.7820803 ,  0.87712807,\n",
       "         0.97217584]),\n",
       " <a list of 1 Patch objects>)"
      ]
     },
     "execution_count": 139,
     "metadata": {},
     "output_type": "execute_result"
    },
    {
     "data": {
      "image/png": "[encoded data removed]",
      "text/plain": [
       "<Figure size 432x288 with 1 Axes>"
      ]
     },
     "metadata": {},
     "output_type": "display_data"
    },
    {
     "data": {
      "image/png": "[encoded data removed]",
      "text/plain": [
       "<Figure size 432x288 with 1 Axes>"
      ]
     },
     "metadata": {},
     "output_type": "display_data"
    }
   ],
   "source": [
    "plt.hist(CellResp['Shit'][np.isfinite(CellResp['Shit'])&(CellResp['cre_line']=='Slc17a7-IRES2-Cre')&(CellResp['session_type']=='behavior_session_A')],bins = 50,alpha = .5,normed = True);\n",
    "plt.hist(CellResp['Smiss'][np.isfinite(CellResp['Smiss'])&(CellResp['cre_line']=='Slc17a7-IRES2-Cre')&(CellResp['session_type'] == 'behavior_session_A')],bins = 50,alpha = .5,normed = True);\n",
    "plt.legend(['Hits (1st flash)','Misses (1st Flash)'])\n",
    "plt.figure()\n",
    "plt.hist(CellResp['Shit'][np.isfinite(CellResp['Shit'])&(CellResp['cre_line']=='Slc17a7-IRES2-Cre')&(CellResp['session_type']=='behavior_session_A')],histtype='step',normed=True,cumulative=True)\n",
    "#plt.hist(CellResp['Spar2'][np.isfinite(CellResp['Spar2'])&(CellResp['cre_line']=='Slc17a7-IRES2-Cre')&(CellResp['session_type'] == 'behavior_session_B')],bins = 50,alpha = .5,normed = True);\n",
    "\n",
    "#plt.hist(CellResp['Spar2'][np.isfinite(CellResp['Spar2'])&(CellResp['cre_line']=='Vip-IRES-Cre')&(CellResp['session_type']=='behavior_session_A')],bins = 20,alpha = .5,normed = True);\n",
    "#plt.hist(CellResp['Spar2'][np.isfinite(CellResp['Spar2'])&(CellResp['cre_line']=='Vip-IRES-Cre')&(CellResp['session_type'] == 'behavior_session_C')],bins = 20,alpha = .5,normed = True);\n",
    "#sp.stats.ks_2samp(CellResp['SparAve'][np.isfinite(CellResp['SparAve'])&(CellResp['cre_line']=='Slc17a7-IRES2-Cre')&(CellResp['session_type']=='behavior_session_A')],\n",
    "#                  CellResp['SparAve'][np.isfinite(CellResp['SparAve'])&(CellResp['cre_line']=='Slc17a7-IRES2-Cre')&(CellResp['session_type'] == 'behavior_session_D')])\n"
   ]
  },
  {
   "cell_type": "code",
   "execution_count": 74,
   "metadata": {},
   "outputs": [
    {
     "data": {
      "text/html": [
       "<div>\n",
       "<style scoped>\n",
       "    .dataframe tbody tr th:only-of-type {\n",
       "        vertical-align: middle;\n",
       "    }\n",
       "\n",
       "    .dataframe tbody tr th {\n",
       "        vertical-align: top;\n",
       "    }\n",
       "\n",
       "    .dataframe thead th {\n",
       "        text-align: right;\n",
       "    }\n",
       "</style>\n",
       "<table border=\"1\" class=\"dataframe\">\n",
       "  <thead>\n",
       "    <tr style=\"text-align: right;\">\n",
       "      <th></th>\n",
       "      <th>Shit</th>\n",
       "      <th>Smiss</th>\n",
       "      <th>Spar1</th>\n",
       "      <th>Spar2</th>\n",
       "      <th>Spar3</th>\n",
       "      <th>Spar4</th>\n",
       "      <th>Spar5</th>\n",
       "      <th>SparAve</th>\n",
       "      <th>cell_indices</th>\n",
       "      <th>cell_specimen_ids</th>\n",
       "      <th>cre_line</th>\n",
       "      <th>experiment_id</th>\n",
       "      <th>session_type</th>\n",
       "    </tr>\n",
       "  </thead>\n",
       "  <tbody>\n",
       "    <tr>\n",
       "      <th>0</th>\n",
       "      <td>0.140308</td>\n",
       "      <td>0.158886</td>\n",
       "      <td>0.100232</td>\n",
       "      <td>0.093731</td>\n",
       "      <td>0.351235</td>\n",
       "      <td>0.385797</td>\n",
       "      <td>0.424650</td>\n",
       "      <td>0.380403</td>\n",
       "      <td>0</td>\n",
       "      <td>644947394</td>\n",
       "      <td>Vip-IRES-Cre</td>\n",
       "      <td>644942849</td>\n",
       "      <td>behavior_session_A</td>\n",
       "    </tr>\n",
       "    <tr>\n",
       "      <th>1</th>\n",
       "      <td>0.306354</td>\n",
       "      <td>0.233874</td>\n",
       "      <td>0.255760</td>\n",
       "      <td>0.224870</td>\n",
       "      <td>0.209784</td>\n",
       "      <td>0.341914</td>\n",
       "      <td>0.411547</td>\n",
       "      <td>0.391935</td>\n",
       "      <td>1</td>\n",
       "      <td>644947396</td>\n",
       "      <td>Vip-IRES-Cre</td>\n",
       "      <td>644942849</td>\n",
       "      <td>behavior_session_A</td>\n",
       "    </tr>\n",
       "    <tr>\n",
       "      <th>2</th>\n",
       "      <td>0.171111</td>\n",
       "      <td>0.324753</td>\n",
       "      <td>0.093052</td>\n",
       "      <td>0.219392</td>\n",
       "      <td>0.348873</td>\n",
       "      <td>0.349687</td>\n",
       "      <td>0.327377</td>\n",
       "      <td>0.205154</td>\n",
       "      <td>2</td>\n",
       "      <td>644947398</td>\n",
       "      <td>Vip-IRES-Cre</td>\n",
       "      <td>644942849</td>\n",
       "      <td>behavior_session_A</td>\n",
       "    </tr>\n",
       "    <tr>\n",
       "      <th>3</th>\n",
       "      <td>0.168797</td>\n",
       "      <td>0.316684</td>\n",
       "      <td>0.122535</td>\n",
       "      <td>0.415258</td>\n",
       "      <td>0.493262</td>\n",
       "      <td>0.461351</td>\n",
       "      <td>0.467547</td>\n",
       "      <td>0.333468</td>\n",
       "      <td>3</td>\n",
       "      <td>644947404</td>\n",
       "      <td>Vip-IRES-Cre</td>\n",
       "      <td>644942849</td>\n",
       "      <td>behavior_session_A</td>\n",
       "    </tr>\n",
       "    <tr>\n",
       "      <th>4</th>\n",
       "      <td>0.266082</td>\n",
       "      <td>0.232349</td>\n",
       "      <td>0.032664</td>\n",
       "      <td>0.236135</td>\n",
       "      <td>0.138776</td>\n",
       "      <td>0.163166</td>\n",
       "      <td>0.258577</td>\n",
       "      <td>0.354480</td>\n",
       "      <td>4</td>\n",
       "      <td>644947410</td>\n",
       "      <td>Vip-IRES-Cre</td>\n",
       "      <td>644942849</td>\n",
       "      <td>behavior_session_A</td>\n",
       "    </tr>\n",
       "  </tbody>\n",
       "</table>\n",
       "</div>"
      ],
      "text/plain": [
       "       Shit     Smiss     Spar1     Spar2     Spar3     Spar4     Spar5  \\\n",
       "0  0.140308  0.158886  0.100232  0.093731  0.351235  0.385797  0.424650   \n",
       "1  0.306354  0.233874  0.255760  0.224870  0.209784  0.341914  0.411547   \n",
       "2  0.171111  0.324753  0.093052  0.219392  0.348873  0.349687  0.327377   \n",
       "3  0.168797  0.316684  0.122535  0.415258  0.493262  0.461351  0.467547   \n",
       "4  0.266082  0.232349  0.032664  0.236135  0.138776  0.163166  0.258577   \n",
       "\n",
       "    SparAve  cell_indices  cell_specimen_ids      cre_line  experiment_id  \\\n",
       "0  0.380403             0          644947394  Vip-IRES-Cre      644942849   \n",
       "1  0.391935             1          644947396  Vip-IRES-Cre      644942849   \n",
       "2  0.205154             2          644947398  Vip-IRES-Cre      644942849   \n",
       "3  0.333468             3          644947404  Vip-IRES-Cre      644942849   \n",
       "4  0.354480             4          644947410  Vip-IRES-Cre      644942849   \n",
       "\n",
       "         session_type  \n",
       "0  behavior_session_A  \n",
       "1  behavior_session_A  \n",
       "2  behavior_session_A  \n",
       "3  behavior_session_A  \n",
       "4  behavior_session_A  "
      ]
     },
     "execution_count": 74,
     "metadata": {},
     "output_type": "execute_result"
    }
   ],
   "source": [
    "CellResp.head()"
   ]
  },
  {
   "cell_type": "code",
   "execution_count": 222,
   "metadata": {},
   "outputs": [
    {
     "ename": "TypeError",
     "evalue": "ecdf() got an unexpected keyword argument 'linestyle'",
     "output_type": "error",
     "traceback": [
      "\u001b[0;31m\u001b[0m",
      "\u001b[0;31mTypeError\u001b[0mTraceback (most recent call last)",
      "\u001b[0;32m<ipython-input-222-8a0ab12c0caf>\u001b[0m in \u001b[0;36m<module>\u001b[0;34m()\u001b[0m\n\u001b[1;32m     12\u001b[0m     \u001b[0;32mreturn\u001b[0m \u001b[0mcdfx\u001b[0m\u001b[0;34m,\u001b[0m\u001b[0myval\u001b[0m\u001b[0;34m\u001b[0m\u001b[0m\n\u001b[1;32m     13\u001b[0m \u001b[0;34m\u001b[0m\u001b[0m\n\u001b[0;32m---> 14\u001b[0;31m \u001b[0mecdf\u001b[0m\u001b[0;34m(\u001b[0m\u001b[0mCellResp\u001b[0m\u001b[0;34m[\u001b[0m\u001b[0;34m'Spar1'\u001b[0m\u001b[0;34m]\u001b[0m\u001b[0;34m.\u001b[0m\u001b[0mvalues\u001b[0m\u001b[0;34m,\u001b[0m\u001b[0mlinestyle\u001b[0m \u001b[0;34m=\u001b[0m \u001b[0;34m'.-'\u001b[0m\u001b[0;34m)\u001b[0m\u001b[0;34m;\u001b[0m\u001b[0;34m\u001b[0m\u001b[0m\n\u001b[0m\u001b[1;32m     15\u001b[0m \u001b[0;31m#ecdf(CellResp['SparAve'][np.isfinite(CellResp['SparAve'])&(CellResp['cre_line']=='Slc17a7-IRES2-Cre')&(CellResp['session_type']=='behavior_session_A')].values);\u001b[0m\u001b[0;34m\u001b[0m\u001b[0;34m\u001b[0m\u001b[0m\n\u001b[1;32m     16\u001b[0m \u001b[0;31m#ecdf(CellResp['SparAve'][np.isfinite(CellResp['SparAve'])&(CellResp['cre_line']=='Slc17a7-IRES2-Cre')&(CellResp['session_type']=='behavior_session_B')].values);\u001b[0m\u001b[0;34m\u001b[0m\u001b[0;34m\u001b[0m\u001b[0m\n",
      "\u001b[0;31mTypeError\u001b[0m: ecdf() got an unexpected keyword argument 'linestyle'"
     ]
    }
   ],
   "source": [
    "def ecdf(data,plotme = True,ax = None,lineopts={'linestyle':'-','marker':'.'}):\n",
    "    if ax is None:\n",
    "        ax = plt.gca()\n",
    "    data = np.array(data)# Just in case\n",
    "    data = data[np.isfinite(data)]\n",
    "    cdfx = np.sort(np.unique(data[np.isfinite(data)]))\n",
    "    yval = np.zeros(cdfx.shape)\n",
    "    for ii,xx in enumerate(cdfx):\n",
    "        yval[ii] = float(len(data[data<xx]))/float(len(data))\n",
    "    if plotme:\n",
    "        ax.plot(cdfx,yval,**lineopts)\n",
    "    return cdfx,yval\n",
    "\n",
    "#ecdf(CellResp['Spar1'].values);\n",
    "ecdf(CellResp['SparAve'][np.isfinite(CellResp['SparAve'])&(CellResp['cre_line']=='Slc17a7-IRES2-Cre')&(CellResp['session_type']=='behavior_session_A')].values);\n",
    "ecdf(CellResp['SparAve'][np.isfinite(CellResp['SparAve'])&(CellResp['cre_line']=='Slc17a7-IRES2-Cre')&(CellResp['session_type']=='behavior_session_B')].values);\n",
    "\n",
    "#ecdf(CellResp[]['SparAve'].values)\n",
    "#ecdf(CellResp['Spar2'].values);\n",
    "#ecdf(CellResp['Spar3'].values);\n",
    "#ecdf(CellResp['Spar4'].values);\n",
    "#ecdf(CellResp['Spar5'].values);\n"
   ]
  },
  {
   "cell_type": "code",
   "execution_count": 271,
   "metadata": {},
   "outputs": [
    {
     "data": {
      "text/plain": [
       "Text(0.5,0,'Sparsity')"
      ]
     },
     "execution_count": 271,
     "metadata": {},
     "output_type": "execute_result"
    },
    {
     "data": {
      "image/png": "[encoded data removed]",
      "text/plain": [
       "<Figure size 432x288 with 2 Axes>"
      ]
     },
     "metadata": {},
     "output_type": "display_data"
    }
   ],
   "source": [
    "CR = CellResp.copy()\n",
    "CR = CR.merge(manifest,left_on='experiment_id',right_on='experiment_id',how='left')\n",
    "# plt.figure()\n",
    "# ecdf(CR['SparAve'][np.isfinite(CR['SparAve'])&(CR['cre_line_x']=='Slc17a7-IRES2-Cre')&(CR['session_type_y']=='behavior_session_A')&(CR['targeted_structure']=='VISp')].values);\n",
    "# ecdf(CR['SparAve'][np.isfinite(CR['SparAve'])&(CR['cre_line_x']=='Slc17a7-IRES2-Cre')&(CR['session_type_y']=='behavior_session_A')&(CR['targeted_structure']=='VISal')].values);\n",
    "# plt.legend(['VISp','VISal'])\n",
    "\n",
    "fig = plt.figure(tight_layout = True)\n",
    "axes = fig.subplots(1,2)\n",
    "axes[0].hist(CR['Spar1'][np.isfinite(CR['Spar1'])&(CR['cre_line_x']=='Slc17a7-IRES2-Cre')&(CR['session_type_y']=='behavior_session_A')&(CR['targeted_structure']=='VISp')].values,bins =30,normed = True,alpha = .6)\n",
    "axes[0].hist(CR['Spar2'][np.isfinite(CR['Spar2'])&(CR['cre_line_x']=='Slc17a7-IRES2-Cre')&(CR['session_type_y'] =='behavior_session_A')&(CR['targeted_structure']=='VISp')].values,bins =30,normed = True,alpha = .6)\n",
    "axes[0].hist(CR['Spar3'][np.isfinite(CR['Spar3'])&(CR['cre_line_x']=='Slc17a7-IRES2-Cre')&(CR['session_type_y'] =='behavior_session_A')&(CR['targeted_structure']=='VISp')].values,bins =30,normed = True,alpha = .6)\n",
    "axes[0].legend(['Flash 1','2','3'])\n",
    "axes[0].set_title('Distribution')\n",
    "axes[0].set_ylabel('% Pop/Bin')\n",
    "axes[0].set_xlabel('Sparsity')\n",
    "\n",
    "ecdf(CR['Spar1'][np.isfinite(CR['Spar1'])&(CR['cre_line_x']=='Slc17a7-IRES2-Cre')&(CR['session_type_y']=='behavior_session_A')&(CR['targeted_structure']=='VISp')].values,ax = axes[1]);\n",
    "ecdf(CR['Spar2'][np.isfinite(CR['Spar2'])&(CR['cre_line_x']=='Slc17a7-IRES2-Cre')&(CR['session_type_y'] =='behavior_session_A')&(CR['targeted_structure']=='VISp')].values,ax = axes[1]);\n",
    "ecdf(CR['Spar3'][np.isfinite(CR['Spar2'])&(CR['cre_line_x']=='Slc17a7-IRES2-Cre')&(CR['session_type_y'] =='behavior_session_A')&(CR['targeted_structure']=='VISp')].values,ax = axes[1]);\n",
    "axes[1].legend(['Flash 1','2','3'])\n",
    "axes[1].set_title('Emperical CDF')\n",
    "axes[1].set_ylabel('Fraction Pop')\n",
    "axes[1].set_xlabel('Sparsity')\n",
    "\n",
    "\n",
    "\n"
   ]
  },
  {
   "cell_type": "code",
   "execution_count": 240,
   "metadata": {},
   "outputs": [
    {
     "data": {
      "text/plain": [
       "False"
      ]
     },
     "execution_count": 240,
     "metadata": {},
     "output_type": "execute_result"
    }
   ],
   "source": [
    "any(~CR.first_session.values)"
   ]
  },
  {
   "cell_type": "code",
   "execution_count": null,
   "metadata": {},
   "outputs": [],
   "source": []
  },
  {
   "cell_type": "code",
   "execution_count": null,
   "metadata": {},
   "outputs": [],
   "source": []
  },
  {
   "cell_type": "code",
   "execution_count": null,
   "metadata": {},
   "outputs": [],
   "source": []
  }
 ],
 "metadata": {
  "kernelspec": {
   "display_name": "conda_python2",
   "language": "python",
   "name": "conda_python2"
  },
  "language_info": {
   "codemirror_mode": {
    "name": "ipython",
    "version": 2
   },
   "file_extension": ".py",
   "mimetype": "text/x-python",
   "name": "python",
   "nbconvert_exporter": "python",
   "pygments_lexer": "ipython2",
   "version": "2.7.14"
  }
 },
 "nbformat": 4,
 "nbformat_minor": 2
}
